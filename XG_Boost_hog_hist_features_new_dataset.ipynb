{
 "cells": [
  {
   "cell_type": "code",
   "execution_count": 1,
   "metadata": {
    "collapsed": false
   },
   "outputs": [],
   "source": [
    "import os\n",
    "import pandas as pd\n",
    "import cv2\n",
    "from skimage.feature import hog"
   ]
  },
  {
   "cell_type": "code",
   "execution_count": 2,
   "metadata": {
    "collapsed": true
   },
   "outputs": [],
   "source": [
    "path=\"C:\\\\Users\\\\Admin\\\\Downloads\\\\IP-dataset\\\\DataSet\\\\all_dataset_new_compressed\"\n",
    "#path2=\"C:/Users/Admin/Downloads/IP-dataset/Annotated_dataset/demo\""
   ]
  },
  {
   "cell_type": "code",
   "execution_count": 3,
   "metadata": {
    "collapsed": false
   },
   "outputs": [
    {
     "name": "stderr",
     "output_type": "stream",
     "text": [
      "C:\\Users\\Admin\\Anaconda3\\lib\\site-packages\\skimage\\feature\\_hog.py:150: skimage_deprecation: Default value of `block_norm`==`L1` is deprecated and will be changed to `L2-Hys` in v0.15. To supress this message specify explicitly the normalization method.\n",
      "  skimage_deprecation)\n"
     ]
    },
    {
     "name": "stdout",
     "output_type": "stream",
     "text": [
      "count 8849\n"
     ]
    }
   ],
   "source": [
    "names=[]\n",
    "label=[]\n",
    "data=[]\n",
    "c=0\n",
    "hog_fd=[]\n",
    "hist_features=[]\n",
    "for folder in os.listdir(path):\n",
    "    if folder == 'bees':\n",
    "        for file in os.listdir(os.path.join(path,folder)):\n",
    "            if(file!='desktop.ini'):\n",
    "                names.append(file)\n",
    "                label.append(1)\n",
    "                img=cv2.imread(os.path.join(os.path.join(path,folder),file))\n",
    "                #img=cv2.resize(img,(64,64))\n",
    "                fd= hog(img,orientations=8,pixels_per_cell=(16,16),cells_per_block=(1,1),multichannel=True)\n",
    "                hog_fd.append(fd)\n",
    "                hsv = cv2.cvtColor(img, cv2.COLOR_BGR2HSV)\n",
    "                hist = cv2.calcHist([hsv], [0, 1, 2], None, [8,8,8],\n",
    "                    [0, 180, 0, 256, 0, 256])\n",
    "                hist = cv2.normalize(hist,hist)\n",
    "                # return the flattened histogram as the feature vector\n",
    "                td_hist = hist.flatten()\n",
    "                hist_features.append(td_hist)\n",
    "                img=img.flatten()\n",
    "                data.append(img)\n",
    "                c=c+1\n",
    "                \n",
    "    if folder =='non_bees':\n",
    "        for file in os.listdir(os.path.join(path,folder)):\n",
    "            if(file!='desktop.ini'):\n",
    "                names.append(file)\n",
    "                label.append(0)\n",
    "                img=cv2.imread(os.path.join(os.path.join(path,folder),file))\n",
    "                #img=cv2.resize(img,(64,64))\n",
    "                fd= hog(img,orientations=8,pixels_per_cell=(16,16),cells_per_block=(1,1),multichannel=True)\n",
    "                hog_fd.append(fd)\n",
    "                hsv = cv2.cvtColor(img, cv2.COLOR_BGR2HSV)\n",
    "                hist = cv2.calcHist([hsv], [0, 1, 2], None, [8,8,8],\n",
    "                    [0, 180, 0, 256, 0, 256])\n",
    "                hist = cv2.normalize(hist,hist)\n",
    "                # return the flattened histogram as the feature vector\n",
    "                td_hist = hist.flatten()\n",
    "                hist_features.append(td_hist)\n",
    "                img=img.flatten()\n",
    "                data.append(img)\n",
    "                c=c+1\n",
    "        \n",
    "print(\"count\",c)"
   ]
  },
  {
   "cell_type": "code",
   "execution_count": 4,
   "metadata": {
    "collapsed": false
   },
   "outputs": [],
   "source": [
    "import numpy as np\n",
    "images_np=np.array(data)\n",
    "hog_np=np.array(hog_fd)\n",
    "data_hog=np.concatenate((images_np,hog_np),axis=1)\n",
    "data_hog_hist=np.concatenate((data_hog,hist_features),axis=1)"
   ]
  },
  {
   "cell_type": "code",
   "execution_count": 5,
   "metadata": {
    "collapsed": true
   },
   "outputs": [],
   "source": [
    "dfname=pd.DataFrame(names)\n",
    "dflabel=pd.DataFrame(label)"
   ]
  },
  {
   "cell_type": "code",
   "execution_count": 6,
   "metadata": {
    "collapsed": false
   },
   "outputs": [
    {
     "data": {
      "text/plain": [
       "8849"
      ]
     },
     "execution_count": 6,
     "metadata": {},
     "output_type": "execute_result"
    }
   ],
   "source": [
    "import numpy as np\n",
    "len(names)"
   ]
  },
  {
   "cell_type": "code",
   "execution_count": 7,
   "metadata": {
    "collapsed": false
   },
   "outputs": [
    {
     "data": {
      "text/plain": [
       "2"
      ]
     },
     "execution_count": 7,
     "metadata": {},
     "output_type": "execute_result"
    }
   ],
   "source": [
    "len(os.listdir(path))"
   ]
  },
  {
   "cell_type": "code",
   "execution_count": 8,
   "metadata": {
    "collapsed": true
   },
   "outputs": [],
   "source": [
    "dfname.columns=['id']\n",
    "dflabel.columns=['label']"
   ]
  },
  {
   "cell_type": "code",
   "execution_count": 9,
   "metadata": {
    "collapsed": true
   },
   "outputs": [],
   "source": [
    "df_concat = pd.concat([dfname, dflabel], axis=1)"
   ]
  },
  {
   "cell_type": "code",
   "execution_count": 10,
   "metadata": {
    "collapsed": false
   },
   "outputs": [],
   "source": [
    "df_concat.to_csv(\"C:/Users/Admin/Downloads/IP-dataset/Annotated_dataset/demo/labels.csv\")"
   ]
  },
  {
   "cell_type": "code",
   "execution_count": 11,
   "metadata": {
    "collapsed": false
   },
   "outputs": [
    {
     "data": {
      "text/plain": [
       "4498"
      ]
     },
     "execution_count": 11,
     "metadata": {},
     "output_type": "execute_result"
    }
   ],
   "source": [
    "len(df_concat[df_concat['label']==1])"
   ]
  },
  {
   "cell_type": "code",
   "execution_count": 24,
   "metadata": {
    "collapsed": true
   },
   "outputs": [],
   "source": [
    "import pickle\n",
    "f_name1='hog_features'\n",
    "outfile1 = open(f_name1,'wb')\n",
    "pickle.dump(data_hog,outfile1)\n",
    "outfile1.close()"
   ]
  },
  {
   "cell_type": "code",
   "execution_count": 25,
   "metadata": {
    "collapsed": true
   },
   "outputs": [],
   "source": [
    "f_name2='hog_hist_features'\n",
    "outfile2 = open(f_name2,'wb')\n",
    "pickle.dump(data_hog_hist,outfile2)\n",
    "outfile2.close()"
   ]
  },
  {
   "cell_type": "markdown",
   "metadata": {},
   "source": [
    "# HOG_ FEATURES"
   ]
  },
  {
   "cell_type": "code",
   "execution_count": 26,
   "metadata": {
    "collapsed": true
   },
   "outputs": [],
   "source": [
    "file1 = open('hog_features','rb')\n",
    "data_hog_file = pickle.load(file1)\n",
    "file1.close()"
   ]
  },
  {
   "cell_type": "code",
   "execution_count": 27,
   "metadata": {
    "collapsed": true
   },
   "outputs": [],
   "source": [
    "file2 = open('hog_hist_features','rb')\n",
    "data_hog_hist_file = pickle.load(file2)\n",
    "file2.close()"
   ]
  },
  {
   "cell_type": "code",
   "execution_count": 28,
   "metadata": {
    "collapsed": false
   },
   "outputs": [
    {
     "data": {
      "text/plain": [
       "6194"
      ]
     },
     "execution_count": 28,
     "metadata": {},
     "output_type": "execute_result"
    }
   ],
   "source": [
    "from sklearn.model_selection import train_test_split\n",
    "\n",
    "X_train,X_test,y_train,y_test = train_test_split(data_hog_file,np.array(label),test_size=0.3,random_state=42)\n",
    "len(X_train)"
   ]
  },
  {
   "cell_type": "code",
   "execution_count": 29,
   "metadata": {
    "collapsed": false
   },
   "outputs": [
    {
     "name": "stdout",
     "output_type": "stream",
     "text": [
      "Accuracy 0.646327683616\n",
      "Kappa 0.292792313617\n",
      "MCC 0.292906062963\n",
      "F1 0.646061062948\n"
     ]
    }
   ],
   "source": [
    "from sklearn.ensemble import RandomForestClassifier\n",
    "from sklearn.metrics import accuracy_score\n",
    "from sklearn.metrics import cohen_kappa_score,matthews_corrcoef,f1_score\n",
    "from sklearn.metrics import average_precision_score\n",
    "from sklearn.svm import SVC\n",
    "from sklearn.naive_bayes import GaussianNB\n",
    "#model = GaussianNB()\n",
    "#model = RandomForestClassifier(n_estimators=100, max_depth=2,random_state=0)\n",
    "from sklearn import tree\n",
    "model = tree.DecisionTreeClassifier()\n",
    "\n",
    "model.fit(X_train,y_train)\n",
    "y_pred=model.predict(X_test)\n",
    "y_pred_train=model.predict(X_train)\n",
    "acc_train=accuracy_score(y_test,y_pred)\n",
    "accuracy=accuracy_score(y_test,y_pred)\n",
    "kappa=cohen_kappa_score(y_test,y_pred)\n",
    "mcc=matthews_corrcoef(y_test,y_pred)\n",
    "f1=f1_score(y_test,y_pred)\n",
    "print(\"Accuracy\",accuracy)\n",
    "print(\"Kappa\",kappa)\n",
    "print(\"MCC\",mcc)\n",
    "print(\"F1\",f1)\n",
    "#print(avg_precision)"
   ]
  },
  {
   "cell_type": "code",
   "execution_count": 30,
   "metadata": {
    "collapsed": false
   },
   "outputs": [
    {
     "data": {
      "image/png": "[encoded data removed]",
      "text/plain": [
       "<Figure size 432x288 with 1 Axes>"
      ]
     },
     "metadata": {},
     "output_type": "display_data"
    }
   ],
   "source": [
    "#precision_recalll_curve\n",
    "import matplotlib.pyplot as plt\n",
    "from sklearn.metrics import precision_recall_curve\n",
    "#y_score = model.decision_function(X_test)\n",
    "y_score=model.predict_proba(X_test)[:,1]\n",
    "#f1= f1_score(y_test, y_score)\n",
    "precision, recall, _ = precision_recall_curve(y_test, y_score)\n",
    "#print(\"f1 score\",f1)\n",
    "plt.plot(recall,precision)\n",
    "plt.xlabel(\"Recall\")\n",
    "plt.ylabel(\"Precision\")\n",
    "plt.title(\"HOG descriptors\")\n",
    "fig1 = plt.gcf()\n",
    "plt.show()\n",
    "plt.draw()\n",
    "fig1.savefig('1_HOG_pr', dpi=100)"
   ]
  },
  {
   "cell_type": "code",
   "execution_count": 32,
   "metadata": {
    "collapsed": false
   },
   "outputs": [
    {
     "data": {
      "image/png": "[encoded data removed]",
      "text/plain": [
       "<Figure size 432x288 with 1 Axes>"
      ]
     },
     "metadata": {},
     "output_type": "display_data"
    }
   ],
   "source": [
    "from sklearn.metrics import roc_curve\n",
    "fpr, tpr, thresholds =roc_curve(y_test, y_score)\n",
    "plt.plot(fpr,tpr)\n",
    "plt.xlabel(\"False positive rate\")\n",
    "plt.ylabel(\"True positive rate\")\n",
    "plt.title(\"HOG descriptors\")\n",
    "\n",
    "fig2= plt.gcf()\n",
    "plt.show()\n",
    "plt.draw()\n",
    "fig2.savefig('2_HOG_roc', dpi=100)"
   ]
  },
  {
   "cell_type": "markdown",
   "metadata": {},
   "source": [
    "# HOG_HIST FEATURES"
   ]
  },
  {
   "cell_type": "code",
   "execution_count": 33,
   "metadata": {
    "collapsed": true
   },
   "outputs": [],
   "source": [
    "from sklearn.model_selection import train_test_split\n",
    "\n",
    "X_train,X_test,y_train,y_test = train_test_split(data_hog_hist_file,np.array(label),test_size=0.3,random_state=42)"
   ]
  },
  {
   "cell_type": "code",
   "execution_count": 34,
   "metadata": {
    "collapsed": false
   },
   "outputs": [
    {
     "data": {
      "text/plain": [
       "6194"
      ]
     },
     "execution_count": 34,
     "metadata": {},
     "output_type": "execute_result"
    }
   ],
   "source": [
    "len(X_train)"
   ]
  },
  {
   "cell_type": "code",
   "execution_count": 35,
   "metadata": {
    "collapsed": false
   },
   "outputs": [
    {
     "name": "stdout",
     "output_type": "stream",
     "text": [
      "Accuracy 0.740489642185\n",
      "Kappa 0.481028243795\n",
      "MCC 0.481127750388\n",
      "F1 0.741269245212\n"
     ]
    }
   ],
   "source": [
    "#from xgboost import XGBClassifier\n",
    "from sklearn.metrics import accuracy_score\n",
    "from sklearn.metrics import cohen_kappa_score,matthews_corrcoef\n",
    "from sklearn.metrics import average_precision_score,f1_score\n",
    "#model = RandomForestClassifier(n_estimators=100, max_depth=2,random_state=0)\n",
    "from sklearn.naive_bayes import GaussianNB\n",
    "#model = GaussianNB()\n",
    "from sklearn import tree\n",
    "model = tree.DecisionTreeClassifier()\n",
    "\n",
    "model.fit(X_train,y_train)\n",
    "y_pred=model.predict(X_test)\n",
    "accuracy=accuracy_score(y_test,y_pred)\n",
    "kappa=cohen_kappa_score(y_test,y_pred)\n",
    "mcc=matthews_corrcoef(y_test,y_pred)\n",
    "f1=f1_score(y_test,y_pred)\n",
    "print(\"Accuracy\",accuracy)\n",
    "print(\"Kappa\",kappa)\n",
    "print(\"MCC\",mcc)\n",
    "print(\"F1\",f1)\n",
    "#print(avg_precision)"
   ]
  },
  {
   "cell_type": "code",
   "execution_count": 36,
   "metadata": {
    "collapsed": false
   },
   "outputs": [
    {
     "data": {
      "image/png": "[encoded data removed]",
      "text/plain": [
       "<Figure size 432x288 with 1 Axes>"
      ]
     },
     "metadata": {},
     "output_type": "display_data"
    }
   ],
   "source": [
    "#precision_recalll_curve\n",
    "import matplotlib.pyplot as plt\n",
    "from sklearn.metrics import precision_recall_curve\n",
    "#y_score = model.decision_function(X_test)\n",
    "y_score=model.predict_proba(X_test)[:,1]\n",
    "#f1 = f1_score(y_test, y_score)\n",
    "precision, recall, _ = precision_recall_curve(y_test, y_score)\n",
    "#print(\"f1 score\",f1)\n",
    "plt.plot(recall,precision)\n",
    "plt.xlabel(\"Recall\")\n",
    "plt.ylabel(\"Precision\")\n",
    "plt.title(\"HOG and ColorHist descriptors\")\n",
    "\n",
    "fig3 = plt.gcf()\n",
    "plt.show()\n",
    "plt.draw()\n",
    "fig3.savefig('3_HOG_Hist_pr',dpi=100)"
   ]
  },
  {
   "cell_type": "code",
   "execution_count": 37,
   "metadata": {
    "collapsed": false
   },
   "outputs": [
    {
     "data": {
      "image/png": "[encoded data removed]",
      "text/plain": [
       "<Figure size 432x288 with 1 Axes>"
      ]
     },
     "metadata": {},
     "output_type": "display_data"
    }
   ],
   "source": [
    "from sklearn.metrics import roc_curve\n",
    "fpr, tpr, thresholds =roc_curve(y_test, y_score)\n",
    "plt.plot(fpr,tpr)\n",
    "plt.xlabel(\"False positive rate\")\n",
    "plt.ylabel(\"True positive rate\")\n",
    "plt.title(\"HOG and ColorHist descriptors\")\n",
    "fig4=plt.gcf()\n",
    "plt.show()\n",
    "plt.draw()\n",
    "fig4.savefig('4_HOG_Hist_roc', dpi=100)"
   ]
  },
  {
   "cell_type": "code",
   "execution_count": 21,
   "metadata": {
    "collapsed": false
   },
   "outputs": [
    {
     "name": "stdout",
     "output_type": "stream",
     "text": [
      "2655\n"
     ]
    }
   ],
   "source": [
    "print(len(y_pred))"
   ]
  },
  {
   "cell_type": "code",
   "execution_count": 22,
   "metadata": {
    "collapsed": false
   },
   "outputs": [
    {
     "name": "stdout",
     "output_type": "stream",
     "text": [
      "2655\n"
     ]
    }
   ],
   "source": [
    "print(len(y_test))"
   ]
  },
  {
   "cell_type": "code",
   "execution_count": 23,
   "metadata": {
    "collapsed": true
   },
   "outputs": [],
   "source": [
    "# HOG+HIST+HU MOMENT FEATURES"
   ]
  },
  {
   "cell_type": "code",
   "execution_count": 59,
   "metadata": {
    "collapsed": false
   },
   "outputs": [],
   "source": [
    "################ Validation Curve\n",
    "from sklearn.model_selection import validation_curve\n",
    "from sklearn.model_selection import learning_curve\n",
    "from sklearn.model_selection import ShuffleSplit\n",
    "\n",
    "#train_scores, valid_scores = validation_curve(GaussianNB(), X_train, y_train, (0.7,0.8) ,cv=5)\n",
    "estimator = GaussianNB()\n",
    "title = \"Learning Curves (Naive Bayes)\"\n",
    "train_sizes, train_scores, valid_scores=learning_curve(estimator, X_train, y_train, train_sizes=[3500,3800,4000,4200,4500], cv=5)"
   ]
  },
  {
   "cell_type": "code",
   "execution_count": 60,
   "metadata": {
    "collapsed": false
   },
   "outputs": [],
   "source": [
    "train_scores_mean = np.mean(train_scores, axis=1)\n",
    "train_scores_std = np.std(train_scores, axis=1)\n",
    "test_scores_mean = np.mean(valid_scores, axis=1)\n",
    "test_scores_std = np.std(valid_scores, axis=1)"
   ]
  },
  {
   "cell_type": "code",
   "execution_count": 64,
   "metadata": {
    "collapsed": false
   },
   "outputs": [
    {
     "data": {
      "image/png": "[encoded data removed]",
      "text/plain": [
       "<Figure size 432x288 with 1 Axes>"
      ]
     },
     "metadata": {},
     "output_type": "display_data"
    }
   ],
   "source": [
    "plt.plot(train_sizes, train_scores_mean, 'o-', color=\"r\",\n",
    "         label=\"Training score\")\n",
    "plt.plot(train_sizes, test_scores_mean, 'o-', color=\"g\",\n",
    "         label=\"Cross-validation score\")\n",
    "plt.ylabel('Accuracy scores')\n",
    "plt.xlabel('Train size')\n",
    "plt.legend(loc=\"best\")\n",
    "plt.grid()\n",
    "plt.show()"
   ]
  },
  {
   "cell_type": "code",
   "execution_count": null,
   "metadata": {
    "collapsed": true
   },
   "outputs": [],
   "source": []
  }
 ],
 "metadata": {
  "kernelspec": {
   "display_name": "Python 3",
   "language": "python",
   "name": "python3"
  },
  "language_info": {
   "codemirror_mode": {
    "name": "ipython",
    "version": 3
   },
   "file_extension": ".py",
   "mimetype": "text/x-python",
   "name": "python",
   "nbconvert_exporter": "python",
   "pygments_lexer": "ipython3",
   "version": "3.6.7"
  }
 },
 "nbformat": 4,
 "nbformat_minor": 2
}
