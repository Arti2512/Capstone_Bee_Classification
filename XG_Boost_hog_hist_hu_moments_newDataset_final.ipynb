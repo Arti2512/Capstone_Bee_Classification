{
 "cells": [
  {
   "cell_type": "code",
   "execution_count": 1,
   "metadata": {
    "collapsed": false
   },
   "outputs": [],
   "source": [
    "import os\n",
    "import pandas as pd\n",
    "import cv2\n",
    "from skimage.feature import hog"
   ]
  },
  {
   "cell_type": "code",
   "execution_count": 2,
   "metadata": {
    "collapsed": true
   },
   "outputs": [],
   "source": [
    "path=\"C:/Users/Admin/Downloads/IP-dataset/DataSet/all_dataset_new_compressed\"\n",
    "#path2=\"C:/Users/Admin/Downloads/IP-dataset/Annotated_dataset/demo\""
   ]
  },
  {
   "cell_type": "code",
   "execution_count": 3,
   "metadata": {
    "collapsed": false
   },
   "outputs": [
    {
     "name": "stderr",
     "output_type": "stream",
     "text": [
      "C:\\Users\\Admin\\Anaconda3\\lib\\site-packages\\skimage\\feature\\_hog.py:150: skimage_deprecation: Default value of `block_norm`==`L1` is deprecated and will be changed to `L2-Hys` in v0.15. To supress this message specify explicitly the normalization method.\n",
      "  skimage_deprecation)\n"
     ]
    },
    {
     "name": "stdout",
     "output_type": "stream",
     "text": [
      "count 7769\n"
     ]
    }
   ],
   "source": [
    "from skimage.feature import greycomatrix\n",
    "from skimage.feature import greycoprops\n",
    "import numpy as np\n",
    "import mahotas.features\n",
    "har_features=[]\n",
    "grey_features=[]\n",
    "names=[]\n",
    "label=[]\n",
    "data=[]\n",
    "hu_features=[]\n",
    "c=0\n",
    "hog_fd=[]\n",
    "hist_features=[]\n",
    "for folder in os.listdir(path):\n",
    "    if folder == 'bees':\n",
    "        for file in os.listdir(os.path.join(path,folder)):\n",
    "            if(file!='desktop.ini'):\n",
    "                names.append(file)\n",
    "                label.append(1)\n",
    "                img=cv2.imread(os.path.join(os.path.join(path,folder),file))\n",
    "                img=cv2.resize(img,(64,64))\n",
    "                fd= hog(img,orientations=8,pixels_per_cell=(16,16),cells_per_block=(1,1),multichannel=True)\n",
    "                hog_fd.append(fd)\n",
    "                hsv = cv2.cvtColor(img, cv2.COLOR_BGR2HSV)\n",
    "                hist = cv2.calcHist([hsv], [0, 1, 2], None, [8,8,8],\n",
    "                    [0, 180, 0, 256, 0, 256])\n",
    "                hist = cv2.normalize(hist,hist)\n",
    "                # return the flattened histogram as the feature vector\n",
    "                td_hist = hist.flatten()\n",
    "                hist_features.append(td_hist)\n",
    "\n",
    "                img2=cv2.cvtColor(img,cv2.COLOR_BGR2GRAY)\n",
    "                hu= cv2.HuMoments(cv2.moments(img2)).flatten()\n",
    "                hu_features.append(hu)\n",
    "                normalizedImg = np.zeros((64,64))\n",
    "                norm_img= cv2.normalize(img2,  normalizedImg, 0, 255, cv2.NORM_MINMAX)\n",
    "                f = greycomatrix(norm_img, distances =[1], angles =[0,np.pi/4,np.pi/2,3*np.pi/4], levels = 256, symmetric=True,normed=True)\n",
    "                img_c = greycoprops(f, 'contrast')\n",
    "                img_d=greycoprops(f, 'dissimilarity')\n",
    "                img_corr=greycoprops(f, 'correlation')\n",
    "                img_c=list(img_c[0])\n",
    "                img_c.extend(img_d[0])\n",
    "                img_c.extend(img_corr[0])\n",
    "                grey_features.append(img_c)\n",
    "                img=img.flatten()\n",
    "                data.append(img)\n",
    "                c=c+1\n",
    "                \n",
    "    if folder =='non_bees':\n",
    "        for file in os.listdir(os.path.join(path,folder)):\n",
    "            if(file!='desktop.ini'):\n",
    "                names.append(file)\n",
    "                label.append(0)\n",
    "                img=cv2.imread(os.path.join(os.path.join(path,folder),file))\n",
    "                img=cv2.resize(img,(64,64))\n",
    "                fd= hog(img,orientations=8,pixels_per_cell=(16,16),cells_per_block=(1,1),multichannel=True)\n",
    "                hog_fd.append(fd)\n",
    "                hsv = cv2.cvtColor(img, cv2.COLOR_BGR2HSV)\n",
    "                hist = cv2.calcHist([hsv], [0, 1, 2], None, [8,8,8],\n",
    "                    [0, 180, 0, 256, 0, 256])\n",
    "                hist = cv2.normalize(hist,hist)\n",
    "                # return the flattened histogram as the feature vector\n",
    "                td_hist = hist.flatten()\n",
    "                hist_features.append(td_hist)\n",
    "\n",
    "                img2=cv2.cvtColor(img,cv2.COLOR_BGR2GRAY)\n",
    "                hu= cv2.HuMoments(cv2.moments(img2)).flatten()\n",
    "                hu_features.append(hu)\n",
    "                normalizedImg = np.zeros((64,64))\n",
    "                norm_img= cv2.normalize(img2,  normalizedImg, 0, 255, cv2.NORM_MINMAX)\n",
    "                f = greycomatrix(norm_img, distances =[1], angles =[0,np.pi/4,np.pi/2,3*np.pi/4], levels = 256, symmetric=True,normed=True)\n",
    "                img_c = greycoprops(f, 'contrast')\n",
    "                img_d=greycoprops(f, 'dissimilarity')\n",
    "                img_corr=greycoprops(f, 'correlation')\n",
    "                img_c=list(img_c[0])\n",
    "                img_c.extend(img_d[0])\n",
    "                img_c.extend(img_corr[0])\n",
    "                grey_features.append(img_c)\n",
    "#                 img2 = mahotas.imread(os.path.join(os.path.join(path,folder),file))\n",
    "#                 feature=mahotas.features.haralick(img2).mean(0)\n",
    "#                 har_features.append(feature)\n",
    "                img=img.flatten()\n",
    "                data.append(img)\n",
    "                c=c+1\n",
    "        \n",
    "print(\"count\",c)"
   ]
  },
  {
   "cell_type": "code",
   "execution_count": 4,
   "metadata": {
    "collapsed": false
   },
   "outputs": [],
   "source": [
    "import numpy as np\n",
    "images_np=np.array(data)\n",
    "hog_np=np.array(hog_fd)\n",
    "data_hog=np.concatenate((images_np,hog_np),axis=1)\n",
    "data_hog_hist=np.concatenate((data_hog,hist_features),axis=1)\n",
    "data_hog_hist_grey=np.concatenate((data_hog_hist,grey_features),axis=1)\n",
    "# data_hog_hist_har=np.concatenate((data_hog_hist,har_features),axis=1)\n",
    "data_hog_hist_grey_hu=np.concatenate((data_hog_hist_grey,hu_features),axis=1)"
   ]
  },
  {
   "cell_type": "code",
   "execution_count": 5,
   "metadata": {
    "collapsed": true
   },
   "outputs": [],
   "source": [
    "dfname=pd.DataFrame(names)\n",
    "dflabel=pd.DataFrame(label)"
   ]
  },
  {
   "cell_type": "code",
   "execution_count": 6,
   "metadata": {
    "collapsed": false
   },
   "outputs": [
    {
     "data": {
      "text/plain": [
       "7769"
      ]
     },
     "execution_count": 6,
     "metadata": {},
     "output_type": "execute_result"
    }
   ],
   "source": [
    "import numpy as np\n",
    "len(names)"
   ]
  },
  {
   "cell_type": "code",
   "execution_count": 7,
   "metadata": {
    "collapsed": false
   },
   "outputs": [
    {
     "data": {
      "text/plain": [
       "2"
      ]
     },
     "execution_count": 7,
     "metadata": {},
     "output_type": "execute_result"
    }
   ],
   "source": [
    "len(os.listdir(path))"
   ]
  },
  {
   "cell_type": "code",
   "execution_count": 8,
   "metadata": {
    "collapsed": true
   },
   "outputs": [],
   "source": [
    "dfname.columns=['id']\n",
    "dflabel.columns=['label']"
   ]
  },
  {
   "cell_type": "code",
   "execution_count": 9,
   "metadata": {
    "collapsed": true
   },
   "outputs": [],
   "source": [
    "df_concat = pd.concat([dfname, dflabel], axis=1)"
   ]
  },
  {
   "cell_type": "code",
   "execution_count": 10,
   "metadata": {
    "collapsed": false
   },
   "outputs": [],
   "source": [
    "df_concat.to_csv(\"C:/Users/Admin/Downloads/IP-dataset/Annotated_dataset/demo/labels.csv\")"
   ]
  },
  {
   "cell_type": "code",
   "execution_count": 11,
   "metadata": {
    "collapsed": false
   },
   "outputs": [
    {
     "data": {
      "text/plain": [
       "4498"
      ]
     },
     "execution_count": 11,
     "metadata": {},
     "output_type": "execute_result"
    }
   ],
   "source": [
    "len(df_concat[df_concat['label']==1])"
   ]
  },
  {
   "cell_type": "markdown",
   "metadata": {},
   "source": [
    "# HOG+HIST+GREY features"
   ]
  },
  {
   "cell_type": "code",
   "execution_count": 14,
   "metadata": {
    "collapsed": false
   },
   "outputs": [
    {
     "data": {
      "text/plain": [
       "5438"
      ]
     },
     "execution_count": 14,
     "metadata": {},
     "output_type": "execute_result"
    }
   ],
   "source": [
    "from sklearn.model_selection import train_test_split\n",
    "\n",
    "X_train,X_test,y_train,y_test = train_test_split(data_hog_hist_grey,np.array(label),test_size=0.3,random_state=42)\n",
    "len(X_train)"
   ]
  },
  {
   "cell_type": "code",
   "execution_count": 15,
   "metadata": {
    "collapsed": false
   },
   "outputs": [
    {
     "name": "stdout",
     "output_type": "stream",
     "text": [
      "0.804804804805\n",
      "0.591562725403\n",
      "0.593459710272\n"
     ]
    }
   ],
   "source": [
    "from xgboost import XGBClassifier\n",
    "from sklearn.metrics import accuracy_score\n",
    "from sklearn.metrics import cohen_kappa_score,matthews_corrcoef\n",
    "from sklearn.metrics import average_precision_score,f1_score\n",
    "model=XGBClassifier()\n",
    "model.fit(X_train,y_train)\n",
    "y_pred=model.predict(X_test)\n",
    "accuracy=accuracy_score(y_test,y_pred)\n",
    "kappa=cohen_kappa_score(y_test,y_pred)\n",
    "mcc=matthews_corrcoef(y_test,y_pred)\n",
    "f1=f1_score(y_test,y_pred)\n",
    "\n",
    "print(\"Accuracy\",accuracy)\n",
    "print(\"Kappa\",kappa)\n",
    "print(\"MCC\",mcc)\n",
    "print(\"F1\",f1)\n",
    "#print(avg_precision)"
   ]
  },
  {
   "cell_type": "code",
   "execution_count": 16,
   "metadata": {
    "collapsed": false
   },
   "outputs": [
    {
     "name": "stdout",
     "output_type": "stream",
     "text": [
      "avg_precision 0.915013399926\n"
     ]
    },
    {
     "data": {
      "image/png": "[encoded data removed]",
      "text/plain": [
       "<Figure size 432x288 with 1 Axes>"
      ]
     },
     "metadata": {},
     "output_type": "display_data"
    }
   ],
   "source": [
    "#precision_recalll_curve\n",
    "import matplotlib.pyplot as plt\n",
    "from sklearn.metrics import precision_recall_curve\n",
    "#y_score = model.decision_function(X_test)\n",
    "y_score=model.predict_proba(X_test)[:,1]\n",
    "#f1 = f1_score(y_test, y_score)\n",
    "precision, recall, _ = precision_recall_curve(y_test, y_score)\n",
    "#print(\"f1 score\",f1)\n",
    "plt.plot(recall,precision)\n",
    "plt.xlabel(\"Recall\")\n",
    "plt.ylabel(\"Precision\")\n",
    "plt.title(\"Precision-recall curve for classification using HOG,ColorHist andGreyCoMatrix features\")\n",
    "\n",
    "fig5=plt.gcf()\n",
    "plt.show()\n",
    "plt.draw()\n",
    "fig5.savefig('5_HOG_Hist_Grey_pr', dpi=100)"
   ]
  },
  {
   "cell_type": "code",
   "execution_count": 17,
   "metadata": {
    "collapsed": false
   },
   "outputs": [
    {
     "data": {
      "image/png": "[encoded data removed]",
      "text/plain": [
       "<Figure size 432x288 with 1 Axes>"
      ]
     },
     "metadata": {},
     "output_type": "display_data"
    }
   ],
   "source": [
    "from sklearn.metrics import roc_curve\n",
    "fpr, tpr, thresholds =roc_curve(y_test, y_score)\n",
    "plt.plot(fpr,tpr)\n",
    "plt.xlabel(\"False positive rate\")\n",
    "plt.ylabel(\"True positive rate\")\n",
    "plt.title(\"ROC curve for classification using using HOG,ColorHist and GreyCoMatrix features\")\n",
    "\n",
    "fig6=plt.gcf()\n",
    "plt.show()\n",
    "plt.draw()\n",
    "fig6.savefig('6_HOG_Hist_Grey_roc', dpi=100)"
   ]
  },
  {
   "cell_type": "markdown",
   "metadata": {},
   "source": [
    "# HOG+HIST+GREY+HU features"
   ]
  },
  {
   "cell_type": "code",
   "execution_count": 18,
   "metadata": {
    "collapsed": false
   },
   "outputs": [],
   "source": [
    "from sklearn.model_selection import train_test_split\n",
    "\n",
    "X_train,X_test,y_train,y_test = train_test_split(data_hog_hist_grey_hu,np.array(label),test_size=0.3,random_state=42)"
   ]
  },
  {
   "cell_type": "code",
   "execution_count": 19,
   "metadata": {
    "collapsed": false
   },
   "outputs": [
    {
     "data": {
      "text/plain": [
       "5438"
      ]
     },
     "execution_count": 19,
     "metadata": {},
     "output_type": "execute_result"
    }
   ],
   "source": [
    "len(X_train)"
   ]
  },
  {
   "cell_type": "code",
   "execution_count": 20,
   "metadata": {
    "collapsed": false
   },
   "outputs": [
    {
     "name": "stdout",
     "output_type": "stream",
     "text": [
      "0.807807807808\n",
      "0.597909707109\n",
      "0.599783406147\n"
     ]
    }
   ],
   "source": [
    "from xgboost import XGBClassifier\n",
    "from sklearn.metrics import accuracy_score\n",
    "from sklearn.metrics import cohen_kappa_score,matthews_corrcoef\n",
    "from sklearn.metrics import average_precision_score,f1_score\n",
    "model=XGBClassifier()\n",
    "model.fit(X_train,y_train)\n",
    "y_pred=model.predict(X_test)\n",
    "accuracy=accuracy_score(y_test,y_pred)\n",
    "kappa=cohen_kappa_score(y_test,y_pred)\n",
    "mcc=matthews_corrcoef(y_test,y_pred)\n",
    "f1=f1_score(y_test,y_pred)\n",
    "\n",
    "print(\"Accuracy\",accuracy)\n",
    "print(\"Kappa\",kappa)\n",
    "print(\"MCC\",mcc)\n",
    "print(\"F1\",f1)"
   ]
  },
  {
   "cell_type": "code",
   "execution_count": 21,
   "metadata": {
    "collapsed": false
   },
   "outputs": [
    {
     "name": "stdout",
     "output_type": "stream",
     "text": [
      "avg_precision 0.912742213326\n"
     ]
    },
    {
     "data": {
      "image/png": "[encoded data removed]",
      "text/plain": [
       "<Figure size 432x288 with 1 Axes>"
      ]
     },
     "metadata": {},
     "output_type": "display_data"
    }
   ],
   "source": [
    "#precision_recalll_curve\n",
    "import matplotlib.pyplot as plt\n",
    "from sklearn.metrics import precision_recall_curve\n",
    "#y_score = model.decision_function(X_test)\n",
    "y_score=model.predict_proba(X_test)[:,1]\n",
    "#f1 = f1_score(y_test, y_score)\n",
    "precision, recall, _ = precision_recall_curve(y_test, y_score)\n",
    "#print(\"f1 score\",f1)\n",
    "plt.plot(recall,precision)\n",
    "plt.xlabel(\"Recall\")\n",
    "plt.ylabel(\"Precision\")\n",
    "plt.title(\"Precision-recall curve for classification using HOG,ColorHist,HU and GreyCoMatrix features\")\n",
    "fig7=plt.gcf()\n",
    "plt.show()\n",
    "plt.draw()\n",
    "fig7.savefig('7_HOG_Hist_Grey_Hu_pr', dpi=100)"
   ]
  },
  {
   "cell_type": "code",
   "execution_count": 22,
   "metadata": {
    "collapsed": false
   },
   "outputs": [
    {
     "data": {
      "image/png": "[encoded data removed]",
      "text/plain": [
       "<Figure size 432x288 with 1 Axes>"
      ]
     },
     "metadata": {},
     "output_type": "display_data"
    }
   ],
   "source": [
    "from sklearn.metrics import roc_curve\n",
    "fpr, tpr, thresholds =roc_curve(y_test, y_score)\n",
    "plt.plot(fpr,tpr)\n",
    "plt.xlabel(\"False positive rate\")\n",
    "plt.ylabel(\"True positive rate\")\n",
    "plt.title(\"ROC curve for classification using using HOG,ColorHist,HU and GreyCoMatrix features\")\n",
    "fig8=plt.gcf()\n",
    "plt.show()\n",
    "plt.draw()\n",
    "fig8.savefig('8_HOG_Hist_Grey_Hu_roc', dpi=100)"
   ]
  },
  {
   "cell_type": "code",
   "execution_count": null,
   "metadata": {
    "collapsed": true
   },
   "outputs": [],
   "source": []
  },
  {
   "cell_type": "code",
   "execution_count": null,
   "metadata": {
    "collapsed": true
   },
   "outputs": [],
   "source": []
  }
 ],
 "metadata": {
  "kernelspec": {
   "display_name": "Python 3",
   "language": "python",
   "name": "python3"
  },
  "language_info": {
   "codemirror_mode": {
    "name": "ipython",
    "version": 3
   },
   "file_extension": ".py",
   "mimetype": "text/x-python",
   "name": "python",
   "nbconvert_exporter": "python",
   "pygments_lexer": "ipython3",
   "version": "3.6.7"
  }
 },
 "nbformat": 4,
 "nbformat_minor": 2
}
